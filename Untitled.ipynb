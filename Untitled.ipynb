{
 "cells": [
  {
   "cell_type": "markdown",
   "id": "f777ecaa",
   "metadata": {},
   "source": [
    "# Dicionário de Dados"
   ]
  },
  {
   "cell_type": "markdown",
   "id": "b4d8161c",
   "metadata": {},
   "source": [
    "# tabela"
   ]
  },
  {
   "cell_type": "markdown",
   "id": "3dee4408",
   "metadata": {},
   "source": [
    "# Importando as Bibliotecas"
   ]
  },
  {
   "cell_type": "code",
   "execution_count": 1,
   "id": "9e61a1a1",
   "metadata": {},
   "outputs": [],
   "source": [
    "import pandas as pd\n",
    "import basedosdados as bd"
   ]
  },
  {
   "cell_type": "markdown",
   "id": "c64c617b",
   "metadata": {},
   "source": [
    "# Carregando os Dados"
   ]
  },
  {
   "cell_type": "code",
   "execution_count": 11,
   "id": "b25449ff",
   "metadata": {},
   "outputs": [
    {
     "name": "stderr",
     "output_type": "stream",
     "text": [
      "Downloading: 100%|█████████████████████████████████████████████████████████████████████████████████████████████████████| 105756/105756 [00:25<00:00, 4094.71rows/s]\n"
     ]
    }
   ],
   "source": [
    "# Passando os dados para a variavel 'df'\n",
    "df = bd.read_table(dataset_id='br_ibge_pib',\n",
    "                   table_id='municipio',\n",
    "                   billing_project_id=\"python-ads-388103\")"
   ]
  },
  {
   "cell_type": "code",
   "execution_count": 15,
   "id": "fada6250",
   "metadata": {},
   "outputs": [
    {
     "data": {
      "text/html": [
       "<div>\n",
       "<style scoped>\n",
       "    .dataframe tbody tr th:only-of-type {\n",
       "        vertical-align: middle;\n",
       "    }\n",
       "\n",
       "    .dataframe tbody tr th {\n",
       "        vertical-align: top;\n",
       "    }\n",
       "\n",
       "    .dataframe thead th {\n",
       "        text-align: right;\n",
       "    }\n",
       "</style>\n",
       "<table border=\"1\" class=\"dataframe\">\n",
       "  <thead>\n",
       "    <tr style=\"text-align: right;\">\n",
       "      <th></th>\n",
       "      <th>id_municipio</th>\n",
       "      <th>ano</th>\n",
       "      <th>pib</th>\n",
       "      <th>impostos_liquidos</th>\n",
       "      <th>va</th>\n",
       "      <th>va_agropecuaria</th>\n",
       "      <th>va_industria</th>\n",
       "      <th>va_servicos</th>\n",
       "      <th>va_adespss</th>\n",
       "    </tr>\n",
       "  </thead>\n",
       "  <tbody>\n",
       "    <tr>\n",
       "      <th>0</th>\n",
       "      <td>1100015</td>\n",
       "      <td>2002</td>\n",
       "      <td>111290995</td>\n",
       "      <td>7549266</td>\n",
       "      <td>103741729</td>\n",
       "      <td>27013223</td>\n",
       "      <td>9376871</td>\n",
       "      <td>24651113</td>\n",
       "      <td>42700523</td>\n",
       "    </tr>\n",
       "    <tr>\n",
       "      <th>1</th>\n",
       "      <td>1100023</td>\n",
       "      <td>2002</td>\n",
       "      <td>449592816</td>\n",
       "      <td>42665972</td>\n",
       "      <td>406926845</td>\n",
       "      <td>28590178</td>\n",
       "      <td>99922936</td>\n",
       "      <td>161851549</td>\n",
       "      <td>116562182</td>\n",
       "    </tr>\n",
       "    <tr>\n",
       "      <th>2</th>\n",
       "      <td>1100031</td>\n",
       "      <td>2002</td>\n",
       "      <td>3176752</td>\n",
       "      <td>1867935</td>\n",
       "      <td>29899585</td>\n",
       "      <td>10883801</td>\n",
       "      <td>1961907</td>\n",
       "      <td>5128876</td>\n",
       "      <td>11925001</td>\n",
       "    </tr>\n",
       "    <tr>\n",
       "      <th>3</th>\n",
       "      <td>1100049</td>\n",
       "      <td>2002</td>\n",
       "      <td>474443097</td>\n",
       "      <td>49622951</td>\n",
       "      <td>424820146</td>\n",
       "      <td>32810376</td>\n",
       "      <td>98292764</td>\n",
       "      <td>175748703</td>\n",
       "      <td>117968303</td>\n",
       "    </tr>\n",
       "    <tr>\n",
       "      <th>4</th>\n",
       "      <td>1100056</td>\n",
       "      <td>2002</td>\n",
       "      <td>79173614</td>\n",
       "      <td>8200971</td>\n",
       "      <td>70972643</td>\n",
       "      <td>11283793</td>\n",
       "      <td>6651475</td>\n",
       "      <td>25306009</td>\n",
       "      <td>27731366</td>\n",
       "    </tr>\n",
       "  </tbody>\n",
       "</table>\n",
       "</div>"
      ],
      "text/plain": [
       "  id_municipio   ano        pib  impostos_liquidos         va  \\\n",
       "0      1100015  2002  111290995            7549266  103741729   \n",
       "1      1100023  2002  449592816           42665972  406926845   \n",
       "2      1100031  2002    3176752            1867935   29899585   \n",
       "3      1100049  2002  474443097           49622951  424820146   \n",
       "4      1100056  2002   79173614            8200971   70972643   \n",
       "\n",
       "   va_agropecuaria  va_industria  va_servicos  va_adespss  \n",
       "0         27013223       9376871     24651113    42700523  \n",
       "1         28590178      99922936    161851549   116562182  \n",
       "2         10883801       1961907      5128876    11925001  \n",
       "3         32810376      98292764    175748703   117968303  \n",
       "4         11283793       6651475     25306009    27731366  "
      ]
     },
     "execution_count": 15,
     "metadata": {},
     "output_type": "execute_result"
    }
   ],
   "source": [
    "df.head()"
   ]
  },
  {
   "cell_type": "code",
   "execution_count": 16,
   "id": "6bd2a4b7",
   "metadata": {},
   "outputs": [
    {
     "data": {
      "text/plain": [
       "<IntegerArray>\n",
       "[2002, 2003, 2004, 2005, 2006, 2007, 2008, 2009, 2010, 2011, 2012, 2013, 2014,\n",
       " 2015, 2016, 2017, 2018, 2019, 2020]\n",
       "Length: 19, dtype: Int64"
      ]
     },
     "execution_count": 16,
     "metadata": {},
     "output_type": "execute_result"
    }
   ],
   "source": [
    "df['ano'].unique()"
   ]
  }
 ],
 "metadata": {
  "kernelspec": {
   "display_name": "Python 3 (ipykernel)",
   "language": "python",
   "name": "python3"
  },
  "language_info": {
   "codemirror_mode": {
    "name": "ipython",
    "version": 3
   },
   "file_extension": ".py",
   "mimetype": "text/x-python",
   "name": "python",
   "nbconvert_exporter": "python",
   "pygments_lexer": "ipython3",
   "version": "3.10.11"
  }
 },
 "nbformat": 4,
 "nbformat_minor": 5
}
