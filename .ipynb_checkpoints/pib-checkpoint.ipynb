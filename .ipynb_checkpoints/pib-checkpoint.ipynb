{
 "cells": [
  {
   "cell_type": "markdown",
   "id": "f777ecaa",
   "metadata": {},
   "source": [
    "# Dicionário de Dados"
   ]
  },
  {
   "cell_type": "markdown",
   "id": "b4d8161c",
   "metadata": {},
   "source": [
    "| **Nome**           | **Tipo de Dado** | **Descrição**                                                                                                                          | **Cobertura Temporal** | **Unidade De Medida** | **Contém Dados Sensíveis \\(LGPD\\)** | **Observações** |\n",
    "|:------------------:|:----------------:|:--------------------------------------------------------------------------------------------------------------------------------------:|:----------------------:|:---------------------:|:-----------------------------------:|:---------------:|\n",
    "| ano                | INT64            | Ano                                                                                                                                    | 2002 \\- 2020           | Ano                   | Não listado                         | Não listado     |\n",
    "| id\\_municipio      | STRING           | ID Município \\- IBGE 7 Dígitos                                                                                                         | 2002 \\- 2020           | Não listado           | Não listado                         | Não listado     |\n",
    "| impostos\\_liquidos | INT64            | Impostos, líquidos de subsídios, sobre produtos a preços correntes                                                                     | 2002 \\- 2020           | Não listado           | Não listado                         | Não listado     |\n",
    "| pib                | INT64            | Produto Interno Bruto a preços correntes                                                                                               | 2002 \\- 2020           | BRL                   | Não listado                         | Não listado     |\n",
    "| va                 | INT64            | Valor adicionado bruto a preços correntes total                                                                                        | 2002 \\- 2020           | BRL                   | Não listado                         | Não listado     |\n",
    "| va\\_adespss        | INT64            | Valor adicionado bruto a preços correntes da administração, defesa, educação e saúde públicas e seguridade social                      | 2002 \\- 2020           | BRL                   | Não listado                         | Não listado     |\n",
    "| va\\_agropecuaria   | INT64            | Valor adicionado bruto a preços correntes da agropecuária                                                                              | 2002 \\- 2020           | BRL                   | Não listado                         | Não listado     |\n",
    "| va\\_industria      | INT64            | Valor adicionado bruto a preços correntes da indústria                                                                                 | 2002 \\- 2020           | BRL                   | Não listado                         | Não listado     |\n",
    "| va\\_servicos       | INT64            | Valor adicionado bruto a preços correntes dos serviços, exclusive administração, defesa, educação e saúde públicas e seguridade social | 2002 \\- 2020           | BRL                   | Não listado                         | Não listado     |\n"
   ]
  },
  {
   "cell_type": "markdown",
   "id": "3dee4408",
   "metadata": {},
   "source": [
    "# Importando as Bibliotecas"
   ]
  },
  {
   "cell_type": "code",
   "execution_count": 1,
   "id": "9e61a1a1",
   "metadata": {},
   "outputs": [],
   "source": [
    "import pandas as pd\n",
    "import basedosdados as bd"
   ]
  },
  {
   "cell_type": "markdown",
   "id": "c64c617b",
   "metadata": {},
   "source": [
    "# Carregando os Dados"
   ]
  },
  {
   "cell_type": "code",
   "execution_count": 3,
   "id": "b25449ff",
   "metadata": {
    "scrolled": true
   },
   "outputs": [
    {
     "name": "stdout",
     "output_type": "stream",
     "text": [
      "Please visit this URL to authorize this application: https://accounts.google.com/o/oauth2/auth?response_type=code&client_id=262006177488-3425ks60hkk80fssi9vpohv88g6q1iqd.apps.googleusercontent.com&redirect_uri=http%3A%2F%2Flocalhost%3A8080%2F&scope=https%3A%2F%2Fwww.googleapis.com%2Fauth%2Fcloud-platform&state=GEPQPmjW3Ismg6P6QpKIBu4YVJMUVg&access_type=offline\n"
     ]
    },
    {
     "name": "stderr",
     "output_type": "stream",
     "text": [
      "Downloading: 100%|███████████████████████████████████████████████████████████████| 105756/105756 [00:25<00:00, 4142.86rows/s]\n"
     ]
    }
   ],
   "source": [
    "# Passando os dados para a variavel 'df'\n",
    "df = bd.read_table(dataset_id='br_ibge_pib',\n",
    "                   table_id='municipio',\n",
    "                   billing_project_id=\"python-ads-388103\",\n",
    "                   reauth=True)"
   ]
  },
  {
   "cell_type": "code",
   "execution_count": 4,
   "id": "ef21e4d3",
   "metadata": {},
   "outputs": [],
   "source": [
    "# Salvando os dados no projeto\n",
    "df.to_csv('./arquivos/base_de_dados/pib.csv')"
   ]
  },
  {
   "cell_type": "markdown",
   "id": "c1f59fb8",
   "metadata": {},
   "source": [
    "# Acessando os Dados "
   ]
  },
  {
   "cell_type": "code",
   "execution_count": 5,
   "id": "86c42cfe",
   "metadata": {},
   "outputs": [
    {
     "data": {
      "text/html": [
       "<div>\n",
       "<style scoped>\n",
       "    .dataframe tbody tr th:only-of-type {\n",
       "        vertical-align: middle;\n",
       "    }\n",
       "\n",
       "    .dataframe tbody tr th {\n",
       "        vertical-align: top;\n",
       "    }\n",
       "\n",
       "    .dataframe thead th {\n",
       "        text-align: right;\n",
       "    }\n",
       "</style>\n",
       "<table border=\"1\" class=\"dataframe\">\n",
       "  <thead>\n",
       "    <tr style=\"text-align: right;\">\n",
       "      <th></th>\n",
       "      <th>id_municipio</th>\n",
       "      <th>ano</th>\n",
       "      <th>pib</th>\n",
       "      <th>impostos_liquidos</th>\n",
       "      <th>va</th>\n",
       "      <th>va_agropecuaria</th>\n",
       "      <th>va_industria</th>\n",
       "      <th>va_servicos</th>\n",
       "      <th>va_adespss</th>\n",
       "    </tr>\n",
       "  </thead>\n",
       "  <tbody>\n",
       "    <tr>\n",
       "      <th>0</th>\n",
       "      <td>1100015</td>\n",
       "      <td>2002</td>\n",
       "      <td>111290995</td>\n",
       "      <td>7549266</td>\n",
       "      <td>103741729</td>\n",
       "      <td>27013223</td>\n",
       "      <td>9376871</td>\n",
       "      <td>24651113</td>\n",
       "      <td>42700523</td>\n",
       "    </tr>\n",
       "    <tr>\n",
       "      <th>1</th>\n",
       "      <td>1100023</td>\n",
       "      <td>2002</td>\n",
       "      <td>449592816</td>\n",
       "      <td>42665972</td>\n",
       "      <td>406926845</td>\n",
       "      <td>28590178</td>\n",
       "      <td>99922936</td>\n",
       "      <td>161851549</td>\n",
       "      <td>116562182</td>\n",
       "    </tr>\n",
       "    <tr>\n",
       "      <th>2</th>\n",
       "      <td>1100031</td>\n",
       "      <td>2002</td>\n",
       "      <td>3176752</td>\n",
       "      <td>1867935</td>\n",
       "      <td>29899585</td>\n",
       "      <td>10883801</td>\n",
       "      <td>1961907</td>\n",
       "      <td>5128876</td>\n",
       "      <td>11925001</td>\n",
       "    </tr>\n",
       "    <tr>\n",
       "      <th>3</th>\n",
       "      <td>1100049</td>\n",
       "      <td>2002</td>\n",
       "      <td>474443097</td>\n",
       "      <td>49622951</td>\n",
       "      <td>424820146</td>\n",
       "      <td>32810376</td>\n",
       "      <td>98292764</td>\n",
       "      <td>175748703</td>\n",
       "      <td>117968303</td>\n",
       "    </tr>\n",
       "    <tr>\n",
       "      <th>4</th>\n",
       "      <td>1100056</td>\n",
       "      <td>2002</td>\n",
       "      <td>79173614</td>\n",
       "      <td>8200971</td>\n",
       "      <td>70972643</td>\n",
       "      <td>11283793</td>\n",
       "      <td>6651475</td>\n",
       "      <td>25306009</td>\n",
       "      <td>27731366</td>\n",
       "    </tr>\n",
       "  </tbody>\n",
       "</table>\n",
       "</div>"
      ],
      "text/plain": [
       "   id_municipio   ano        pib  impostos_liquidos         va  \\\n",
       "0       1100015  2002  111290995            7549266  103741729   \n",
       "1       1100023  2002  449592816           42665972  406926845   \n",
       "2       1100031  2002    3176752            1867935   29899585   \n",
       "3       1100049  2002  474443097           49622951  424820146   \n",
       "4       1100056  2002   79173614            8200971   70972643   \n",
       "\n",
       "   va_agropecuaria  va_industria  va_servicos  va_adespss  \n",
       "0         27013223       9376871     24651113    42700523  \n",
       "1         28590178      99922936    161851549   116562182  \n",
       "2         10883801       1961907      5128876    11925001  \n",
       "3         32810376      98292764    175748703   117968303  \n",
       "4         11283793       6651475     25306009    27731366  "
      ]
     },
     "execution_count": 5,
     "metadata": {},
     "output_type": "execute_result"
    }
   ],
   "source": [
    "# Acessando o arquivo CSV dos dados \n",
    "df = pd.read_csv('./arquivos/base_de_dados/pib.csv', index_col=0)\n",
    "\n",
    "df.head()"
   ]
  },
  {
   "cell_type": "code",
   "execution_count": 8,
   "id": "6bd2a4b7",
   "metadata": {
    "scrolled": true
   },
   "outputs": [
    {
     "data": {
      "text/plain": [
       "array([2002, 2003, 2004, 2005, 2006, 2007, 2008, 2009, 2010, 2011, 2012,\n",
       "       2013, 2014, 2015, 2016, 2017, 2018, 2019, 2020], dtype=int64)"
      ]
     },
     "execution_count": 8,
     "metadata": {},
     "output_type": "execute_result"
    }
   ],
   "source": [
    "df['ano'].unique()"
   ]
  },
  {
   "cell_type": "markdown",
   "id": "8031eeb4",
   "metadata": {},
   "source": [
    "# Criando a Pesquisa da Tabela"
   ]
  },
  {
   "cell_type": "code",
   "execution_count": 9,
   "id": "e68cc5be",
   "metadata": {},
   "outputs": [],
   "source": [
    "# Criando a função\n",
    "def pesquisa_pib(ano, baixar):\n",
    "    \n",
    "    # Criando uma nova tabela com a busca do ano\n",
    "    busca_pib = df[df['ano'] == ano]\n",
    "    \n",
    "    # Salvando a tabela\n",
    "    if len(busca_pib) < 0:\n",
    "        print(\"Busca não encontrada\")\n",
    "        \n",
    "    else:\n",
    "        if baixar == 1:\n",
    "            busca_pib.to_excel(f'arquivos\\pesqui_pib_{ano}.xlsx')\n",
    "            print('Tabela salva em arquivos')\n",
    "        \n",
    "        elif baixar == 2:\n",
    "            return busca_pib\n",
    "        \n",
    "        else:\n",
    "            print(\"Opção não localizada! Insira 1 para baixar e 2 apenas para visualizar a tabela\")\n",
    "        "
   ]
  },
  {
   "cell_type": "markdown",
   "id": "9789f67d",
   "metadata": {},
   "source": [
    "# Solicitando Dados Para o Usuários"
   ]
  },
  {
   "cell_type": "code",
   "execution_count": 10,
   "id": "c2a53721",
   "metadata": {},
   "outputs": [
    {
     "name": "stdout",
     "output_type": "stream",
     "text": [
      "Informe o ano da busca: 2002\n",
      "Deseja baixar a busca?\n",
      " 1- Para Baixar;\n",
      " 2- Apenas para retornar a tabela.\n",
      "2\n"
     ]
    },
    {
     "data": {
      "text/html": [
       "<div>\n",
       "<style scoped>\n",
       "    .dataframe tbody tr th:only-of-type {\n",
       "        vertical-align: middle;\n",
       "    }\n",
       "\n",
       "    .dataframe tbody tr th {\n",
       "        vertical-align: top;\n",
       "    }\n",
       "\n",
       "    .dataframe thead th {\n",
       "        text-align: right;\n",
       "    }\n",
       "</style>\n",
       "<table border=\"1\" class=\"dataframe\">\n",
       "  <thead>\n",
       "    <tr style=\"text-align: right;\">\n",
       "      <th></th>\n",
       "      <th>id_municipio</th>\n",
       "      <th>ano</th>\n",
       "      <th>pib</th>\n",
       "      <th>impostos_liquidos</th>\n",
       "      <th>va</th>\n",
       "      <th>va_agropecuaria</th>\n",
       "      <th>va_industria</th>\n",
       "      <th>va_servicos</th>\n",
       "      <th>va_adespss</th>\n",
       "    </tr>\n",
       "  </thead>\n",
       "  <tbody>\n",
       "    <tr>\n",
       "      <th>0</th>\n",
       "      <td>1100015</td>\n",
       "      <td>2002</td>\n",
       "      <td>111290995</td>\n",
       "      <td>7549266</td>\n",
       "      <td>103741729</td>\n",
       "      <td>27013223</td>\n",
       "      <td>9376871</td>\n",
       "      <td>24651113</td>\n",
       "      <td>42700523</td>\n",
       "    </tr>\n",
       "    <tr>\n",
       "      <th>1</th>\n",
       "      <td>1100023</td>\n",
       "      <td>2002</td>\n",
       "      <td>449592816</td>\n",
       "      <td>42665972</td>\n",
       "      <td>406926845</td>\n",
       "      <td>28590178</td>\n",
       "      <td>99922936</td>\n",
       "      <td>161851549</td>\n",
       "      <td>116562182</td>\n",
       "    </tr>\n",
       "    <tr>\n",
       "      <th>2</th>\n",
       "      <td>1100031</td>\n",
       "      <td>2002</td>\n",
       "      <td>3176752</td>\n",
       "      <td>1867935</td>\n",
       "      <td>29899585</td>\n",
       "      <td>10883801</td>\n",
       "      <td>1961907</td>\n",
       "      <td>5128876</td>\n",
       "      <td>11925001</td>\n",
       "    </tr>\n",
       "    <tr>\n",
       "      <th>3</th>\n",
       "      <td>1100049</td>\n",
       "      <td>2002</td>\n",
       "      <td>474443097</td>\n",
       "      <td>49622951</td>\n",
       "      <td>424820146</td>\n",
       "      <td>32810376</td>\n",
       "      <td>98292764</td>\n",
       "      <td>175748703</td>\n",
       "      <td>117968303</td>\n",
       "    </tr>\n",
       "    <tr>\n",
       "      <th>4</th>\n",
       "      <td>1100056</td>\n",
       "      <td>2002</td>\n",
       "      <td>79173614</td>\n",
       "      <td>8200971</td>\n",
       "      <td>70972643</td>\n",
       "      <td>11283793</td>\n",
       "      <td>6651475</td>\n",
       "      <td>25306009</td>\n",
       "      <td>27731366</td>\n",
       "    </tr>\n",
       "    <tr>\n",
       "      <th>...</th>\n",
       "      <td>...</td>\n",
       "      <td>...</td>\n",
       "      <td>...</td>\n",
       "      <td>...</td>\n",
       "      <td>...</td>\n",
       "      <td>...</td>\n",
       "      <td>...</td>\n",
       "      <td>...</td>\n",
       "      <td>...</td>\n",
       "    </tr>\n",
       "    <tr>\n",
       "      <th>5555</th>\n",
       "      <td>5222005</td>\n",
       "      <td>2002</td>\n",
       "      <td>86496897</td>\n",
       "      <td>5496209</td>\n",
       "      <td>81000688</td>\n",
       "      <td>37061131</td>\n",
       "      <td>5763475</td>\n",
       "      <td>26151965</td>\n",
       "      <td>12024117</td>\n",
       "    </tr>\n",
       "    <tr>\n",
       "      <th>5556</th>\n",
       "      <td>5222054</td>\n",
       "      <td>2002</td>\n",
       "      <td>66360309</td>\n",
       "      <td>3227149</td>\n",
       "      <td>63133161</td>\n",
       "      <td>32945422</td>\n",
       "      <td>3450499</td>\n",
       "      <td>18957616</td>\n",
       "      <td>7779624</td>\n",
       "    </tr>\n",
       "    <tr>\n",
       "      <th>5557</th>\n",
       "      <td>5222203</td>\n",
       "      <td>2002</td>\n",
       "      <td>13820626</td>\n",
       "      <td>805531</td>\n",
       "      <td>13015095</td>\n",
       "      <td>4390096</td>\n",
       "      <td>62022</td>\n",
       "      <td>3605544</td>\n",
       "      <td>4399235</td>\n",
       "    </tr>\n",
       "    <tr>\n",
       "      <th>5558</th>\n",
       "      <td>5222302</td>\n",
       "      <td>2002</td>\n",
       "      <td>4605601</td>\n",
       "      <td>1119854</td>\n",
       "      <td>44936156</td>\n",
       "      <td>29437416</td>\n",
       "      <td>4451573</td>\n",
       "      <td>6188056</td>\n",
       "      <td>4859112</td>\n",
       "    </tr>\n",
       "    <tr>\n",
       "      <th>5559</th>\n",
       "      <td>5300108</td>\n",
       "      <td>2002</td>\n",
       "      <td>53902199799</td>\n",
       "      <td>6926279208</td>\n",
       "      <td>46975920591</td>\n",
       "      <td>165416683</td>\n",
       "      <td>4089946543</td>\n",
       "      <td>21927573402</td>\n",
       "      <td>20792983964</td>\n",
       "    </tr>\n",
       "  </tbody>\n",
       "</table>\n",
       "<p>5560 rows × 9 columns</p>\n",
       "</div>"
      ],
      "text/plain": [
       "      id_municipio   ano          pib  impostos_liquidos           va  \\\n",
       "0          1100015  2002    111290995            7549266    103741729   \n",
       "1          1100023  2002    449592816           42665972    406926845   \n",
       "2          1100031  2002      3176752            1867935     29899585   \n",
       "3          1100049  2002    474443097           49622951    424820146   \n",
       "4          1100056  2002     79173614            8200971     70972643   \n",
       "...            ...   ...          ...                ...          ...   \n",
       "5555       5222005  2002     86496897            5496209     81000688   \n",
       "5556       5222054  2002     66360309            3227149     63133161   \n",
       "5557       5222203  2002     13820626             805531     13015095   \n",
       "5558       5222302  2002      4605601            1119854     44936156   \n",
       "5559       5300108  2002  53902199799         6926279208  46975920591   \n",
       "\n",
       "      va_agropecuaria  va_industria  va_servicos   va_adespss  \n",
       "0            27013223       9376871     24651113     42700523  \n",
       "1            28590178      99922936    161851549    116562182  \n",
       "2            10883801       1961907      5128876     11925001  \n",
       "3            32810376      98292764    175748703    117968303  \n",
       "4            11283793       6651475     25306009     27731366  \n",
       "...               ...           ...          ...          ...  \n",
       "5555         37061131       5763475     26151965     12024117  \n",
       "5556         32945422       3450499     18957616      7779624  \n",
       "5557          4390096         62022      3605544      4399235  \n",
       "5558         29437416       4451573      6188056      4859112  \n",
       "5559        165416683    4089946543  21927573402  20792983964  \n",
       "\n",
       "[5560 rows x 9 columns]"
      ]
     },
     "execution_count": 10,
     "metadata": {},
     "output_type": "execute_result"
    }
   ],
   "source": [
    "# Utilizando tratamento de erros com o 'try | except'\n",
    "try:\n",
    "    ano_pib = int(input(\"Informe o ano da busca: \"))\n",
    "    baixar_pib = int(input(\"Deseja baixar a busca?\\n 1- Para Baixar;\\n 2- Apenas para retornar a tabela.\\n\"))\n",
    "\n",
    "except (ValueError, TypeError, AttributeError):\n",
    "    print('Ocorreu um erro, tente novamente!')\n",
    "    \n",
    "# Passando os dados do usuário para a função\n",
    "pesquisa_pib(ano= ano_pib, baixar=baixar_pib)"
   ]
  }
 ],
 "metadata": {
  "kernelspec": {
   "display_name": "Python 3 (ipykernel)",
   "language": "python",
   "name": "python3"
  },
  "language_info": {
   "codemirror_mode": {
    "name": "ipython",
    "version": 3
   },
   "file_extension": ".py",
   "mimetype": "text/x-python",
   "name": "python",
   "nbconvert_exporter": "python",
   "pygments_lexer": "ipython3",
   "version": "3.10.11"
  }
 },
 "nbformat": 4,
 "nbformat_minor": 5
}
